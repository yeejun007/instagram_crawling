{
 "cells": [
  {
   "cell_type": "code",
   "execution_count": 30,
   "metadata": {},
   "outputs": [],
   "source": [
    "from insta_crawling import crawling_start\n",
    "import urllib\n",
    "import os\n",
    "import io\n",
    "from os import walk"
   ]
  },
  {
   "cell_type": "code",
   "execution_count": 21,
   "metadata": {},
   "outputs": [
    {
     "name": "stdout",
     "output_type": "stream",
     "text": [
      "id를 입력하세요: yeejun90\n",
      "password를 입력하세요: ········\n"
     ]
    },
    {
     "data": {
      "text/html": [
       "<div>\n",
       "<style scoped>\n",
       "    .dataframe tbody tr th:only-of-type {\n",
       "        vertical-align: middle;\n",
       "    }\n",
       "\n",
       "    .dataframe tbody tr th {\n",
       "        vertical-align: top;\n",
       "    }\n",
       "\n",
       "    .dataframe thead th {\n",
       "        text-align: right;\n",
       "    }\n",
       "</style>\n",
       "<table border=\"1\" class=\"dataframe\">\n",
       "  <thead>\n",
       "    <tr style=\"text-align: right;\">\n",
       "      <th></th>\n",
       "      <th>hash_tag</th>\n",
       "      <th>image_url</th>\n",
       "    </tr>\n",
       "  </thead>\n",
       "  <tbody>\n",
       "    <tr>\n",
       "      <th>49</th>\n",
       "      <td>#옥수역떡볶이,#튀김,#순대,#포장마차떡볶이,#오뎅,#여기가맛집,#어묵,#떡볶이,#...</td>\n",
       "      <td>https://scontent-ssn1-1.cdninstagram.com/v/t51...</td>\n",
       "    </tr>\n",
       "    <tr>\n",
       "      <th>50</th>\n",
       "      <td>#안먹아기,#노래가절로,#15개월29일아기,#모짜렐라소세지핫도그,#엄마밥도잘먹어주라...</td>\n",
       "      <td>https://scontent-ssn1-1.cdninstagram.com/v/t51...</td>\n",
       "    </tr>\n",
       "    <tr>\n",
       "      <th>51</th>\n",
       "      <td>#오오티디,#아시안카지노,#널스타그램,#행복한하루,#라떼아트,#좋아요꾹,#육아맘일상...</td>\n",
       "      <td>https://scontent-ssn1-1.cdninstagram.com/v/t51...</td>\n",
       "    </tr>\n",
       "    <tr>\n",
       "      <th>52</th>\n",
       "      <td>#떡볶이,#먹부림스타그램,#ddeokbokki,#순대모듬볶음,#호떡,#저녁,#먹스타...</td>\n",
       "      <td>https://scontent-ssn1-1.cdninstagram.com/v/t51...</td>\n",
       "    </tr>\n",
       "    <tr>\n",
       "      <th>53</th>\n",
       "      <td>#아빠,#다이어트계정,#동성로맛집,#야구,#섹스밤,#여자자위,#여행,#식스팩,#한강...</td>\n",
       "      <td>https://scontent-ssn1-1.cdninstagram.com/v/t51...</td>\n",
       "    </tr>\n",
       "  </tbody>\n",
       "</table>\n",
       "</div>"
      ],
      "text/plain": [
       "                                             hash_tag  \\\n",
       "49  #옥수역떡볶이,#튀김,#순대,#포장마차떡볶이,#오뎅,#여기가맛집,#어묵,#떡볶이,#...   \n",
       "50  #안먹아기,#노래가절로,#15개월29일아기,#모짜렐라소세지핫도그,#엄마밥도잘먹어주라...   \n",
       "51  #오오티디,#아시안카지노,#널스타그램,#행복한하루,#라떼아트,#좋아요꾹,#육아맘일상...   \n",
       "52  #떡볶이,#먹부림스타그램,#ddeokbokki,#순대모듬볶음,#호떡,#저녁,#먹스타...   \n",
       "53  #아빠,#다이어트계정,#동성로맛집,#야구,#섹스밤,#여자자위,#여행,#식스팩,#한강...   \n",
       "\n",
       "                                            image_url  \n",
       "49  https://scontent-ssn1-1.cdninstagram.com/v/t51...  \n",
       "50  https://scontent-ssn1-1.cdninstagram.com/v/t51...  \n",
       "51  https://scontent-ssn1-1.cdninstagram.com/v/t51...  \n",
       "52  https://scontent-ssn1-1.cdninstagram.com/v/t51...  \n",
       "53  https://scontent-ssn1-1.cdninstagram.com/v/t51...  "
      ]
     },
     "execution_count": 21,
     "metadata": {},
     "output_type": "execute_result"
    }
   ],
   "source": [
    "df = crawling_start('오뎅', 2, headless=False, mongo_save=0)\n",
    "df.tail(5)"
   ]
  },
  {
   "cell_type": "code",
   "execution_count": null,
   "metadata": {},
   "outputs": [],
   "source": []
  },
  {
   "cell_type": "code",
   "execution_count": 22,
   "metadata": {},
   "outputs": [
    {
     "name": "stdout",
     "output_type": "stream",
     "text": [
      "https://scontent-ssn1-1.cdninstagram.com/v/t51.2885-15/sh0.08/e35/c120.0.720.720a/s640x640/94261117_217564799475970_1704745025451870145_n.jpg?_nc_ht=scontent-ssn1-1.cdninstagram.com&_nc_cat=110&_nc_ohc=Mz2-pb71ZVYAX_RcWxc&oh=676fd9c05f3eaa275f73230a3674ed54&oe=5ECB6261\n"
     ]
    }
   ],
   "source": [
    "print(df.iloc[20]['image_url'])"
   ]
  },
  {
   "cell_type": "code",
   "execution_count": 89,
   "metadata": {},
   "outputs": [],
   "source": [
    "import urllib\n",
    "import os\n",
    "\n",
    "if not os.path.exists('./insta_img'):\n",
    "    os.mkdir('insta_img')\n",
    "for index, row in df.iterrows():\n",
    "    urllib.request.urlretrieve(\n",
    "        row['image_url'], './insta_img/insta_img_{:02d}.png'.format(index))"
   ]
  },
  {
   "cell_type": "code",
   "execution_count": 90,
   "metadata": {},
   "outputs": [
    {
     "data": {
      "text/plain": [
       "'https://scontent-ssn1-1.cdninstagram.com/v/t51.2885-15/e35/93953163_162252765112874_3425989181317445086_n.jpg?_nc_ht=scontent-ssn1-1.cdninstagram.com&_nc_cat=102&_nc_ohc=J6UBg2ee9GEAX8PBU1A&oh=ed02e7e375bba9ee7d956fcfb5aab09c&oe=5ECA5F50'"
      ]
     },
     "execution_count": 90,
     "metadata": {},
     "output_type": "execute_result"
    }
   ],
   "source": [
    "df.iloc[10]['image_url']"
   ]
  },
  {
   "cell_type": "code",
   "execution_count": 91,
   "metadata": {},
   "outputs": [],
   "source": [
    "# parts = urllib.parse.urlparse(df.iloc[11]['image_url'])"
   ]
  },
  {
   "cell_type": "code",
   "execution_count": 92,
   "metadata": {},
   "outputs": [],
   "source": [
    "# parts.query"
   ]
  },
  {
   "cell_type": "code",
   "execution_count": 134,
   "metadata": {},
   "outputs": [],
   "source": [
    "# 유해성콘텐츠 감지 api는 유해 게시물을 정확히 잡아내지 못한다 (ex. 사진에 글만 있는 경우)\n",
    "from google.cloud import vision\n",
    "from google.cloud.vision import types\n",
    "import urllib\n",
    "import os\n",
    "import io\n",
    "from os import walk\n",
    "\n",
    "\n",
    "def spam_check():\n",
    "    os.environ['GOOGLE_APPLICATION_CREDENTIALS'] = '/Users/song-yeejun/Desktop/Fastcampus/dss01/google_vision_key/vision_key.json'\n",
    "    client = vision.ImageAnnotatorClient()\n",
    "\n",
    "    file_list = []\n",
    "    for (dirpath, dirnames, filenames) in walk('./insta_img'):\n",
    "        file_list.extend(filenames)\n",
    "    file_list.sort()\n",
    "    file_list\n",
    "\n",
    "    img_words = []\n",
    "    for index, each_file in enumerate(file_list):\n",
    "        with io.open('./insta_img/{}'.format(each_file), 'rb') as image_file:\n",
    "            content = image_file.read()\n",
    "        image = vision.types.Image(content=content)\n",
    "        response = client.text_detection(image=image)\n",
    "        texts = response.text_annotations\n",
    "\n",
    "        if len(texts) > 0:\n",
    "            img_words.append(('{:02}'.format(index), texts[0].description))\n",
    "        else:\n",
    "            img_words.append(('{:02}'.format(index), \"\"))\n",
    "\n",
    "    return img_words"
   ]
  },
  {
   "cell_type": "code",
   "execution_count": 135,
   "metadata": {},
   "outputs": [],
   "source": [
    "arr = spam_check()"
   ]
  },
  {
   "cell_type": "code",
   "execution_count": 136,
   "metadata": {},
   "outputs": [
    {
     "data": {
      "text/plain": [
       "[('00', '1000\\n45\\n'),\n",
       " ('01', ''),\n",
       " ('02', ''),\n",
       " ('03',\n",
       "  '성인출장삼\\n섹타임 출장잡\\n최고의 서비스!!\\n이쁜이들 항시대기중!!!\\n100% 안전보장!!!\\nwww.stime79.com\\n예약카톡: A H 2 68\\n'),\n",
       " ('04', ''),\n",
       " ('05', ''),\n",
       " ('06', \"2대를 이어 정성을 다하는.00\\n'촬맥떡볶ㅇ\\n리기소문 특허 0113123\\n본점 756-75\\n\"),\n",
       " ('07', ''),\n",
       " ('08', ''),\n",
       " ('09', ''),\n",
       " ('10',\n",
       "  '성인출장삼\\n섹타임 출장잡\\n최고의 서비스!!\\n이쁜이들 항시대기중!!!\\n100% 안전보장!!!\\nwww.stime79.com\\n예약카톡: A H 2 68\\n'),\n",
       " ('11', ''),\n",
       " ('12',\n",
       "  '19금 성인\\n출장의사\\n>섹타임\\nwww.stime79.com\\n+ 타임- 15만원\\n+ 타임\\n25만원\\n풀 +타임\\n35만원.,\\n예약카톡:A,H 2 68\\n롱\\n'),\n",
       " ('13',\n",
       "  '어어.\\n백보라잖아?\\n오다주웠다\\n꿀 호떡\\n1개 700원\\n3개 2,000원\\n1.500원\\n소세지 호떡\\n창깨 호떡\\n세개 1.200원\\n3개 3,500원\\n2,0009\\n아이스크림 호떡\\n1,500원\\n'),\n",
       " ('14', ''),\n",
       " ('15', ''),\n",
       " ('16', 'WWW.MRSEX5.COM\\n러브출장샵\\n상담카톡:TM5658\\n'),\n",
       " ('17', ''),\n",
       " ('18', '전국출장\\n카톡:RC267\\nwwW.RC2776.COM\\n'),\n",
       " ('19', ''),\n",
       " ('20', ''),\n",
       " ('21', ''),\n",
       " ('22', 'UNG\\n'),\n",
       " ('23', ''),\n",
       " ('24', ''),\n",
       " ('25', ''),\n",
       " ('26', ''),\n",
       " ('27', ''),\n",
       " ('28', ''),\n",
       " ('29', 'odeng\\n'),\n",
       " ('30', 'ABSOLUT\\n'),\n",
       " ('31', ''),\n",
       " ('32', ''),\n",
       " ('33', ''),\n",
       " ('34', ''),\n",
       " ('35', ''),\n",
       " ('36', 'WWW.MRSEX5.COM\\n러브출장샵\\n상담카톡:TM5658\\n'),\n",
       " ('37', 'fresh\\n'),\n",
       " ('38', ''),\n",
       " ('39', 'ADT\\nADT\\n메리 뿌봉산\\nERRA\\n671\\n999\\n리트통\\n처음\\n처리\\n'),\n",
       " ('40', '누구하고\\n있느냐고\\n물였을때\\n듣는순간\\n짜증나는\\n그한마디\\nCCH\\n아는오빠-\\n'),\n",
       " ('41', 'RRA\\nA984\\nRA\\nbun\\n'),\n",
       " ('42', ''),\n",
       " ('43', 'হ\\n'),\n",
       " ('44', ''),\n",
       " ('45', '전국출장\\n카톡:RC267\\nwwW.RC2776.COM\\n'),\n",
       " ('46', 'wwW.RC2776.COM\\n출장마사지\\n카톡: RC267\\n'),\n",
       " ('47', ''),\n",
       " ('48', ''),\n",
       " ('49', ''),\n",
       " ('50', ''),\n",
       " ('51', 'WWW.MRSEX5.COM\\n러브출장샵\\n상담카톡:TM5658\\n'),\n",
       " ('52', ''),\n",
       " ('53',\n",
       "  '섹타 임\\n성인출장샵\\nwww.stime79.com\\n>화끈한 서비스!!\\n>색다른 이벤트!!\\n>100% 안전보장\\n예약카톡:A H268\\n')]"
      ]
     },
     "execution_count": 136,
     "metadata": {},
     "output_type": "execute_result"
    }
   ],
   "source": [
    "arr"
   ]
  },
  {
   "cell_type": "code",
   "execution_count": 132,
   "metadata": {},
   "outputs": [],
   "source": [
    "spam_words = ['성인출장삼', '섹타임 출장잡', '예약카톡', '이쁜이들 항시대기중!!!',\n",
    "              '성인', '출장의사', '19금 성인', '전국출장', '러브출장샵', '상담카톡', '섹타 임', '출장마사지']"
   ]
  },
  {
   "cell_type": "code",
   "execution_count": 143,
   "metadata": {},
   "outputs": [
    {
     "name": "stdout",
     "output_type": "stream",
     "text": [
      "03\n",
      "10\n",
      "12\n",
      "16\n",
      "18\n",
      "36\n",
      "45\n",
      "46\n",
      "51\n",
      "53\n"
     ]
    }
   ],
   "source": [
    "for index, words in arr:\n",
    "    check = [each_word in spam_words for each_word in words.split('\\n')]\n",
    "    if True in check:\n",
    "        print(index)\n",
    "    "
   ]
  },
  {
   "cell_type": "code",
   "execution_count": null,
   "metadata": {},
   "outputs": [],
   "source": []
  },
  {
   "cell_type": "code",
   "execution_count": null,
   "metadata": {},
   "outputs": [],
   "source": []
  },
  {
   "cell_type": "code",
   "execution_count": null,
   "metadata": {},
   "outputs": [],
   "source": []
  },
  {
   "cell_type": "code",
   "execution_count": null,
   "metadata": {},
   "outputs": [],
   "source": []
  },
  {
   "cell_type": "code",
   "execution_count": null,
   "metadata": {},
   "outputs": [],
   "source": []
  },
  {
   "cell_type": "code",
   "execution_count": null,
   "metadata": {},
   "outputs": [],
   "source": []
  },
  {
   "cell_type": "code",
   "execution_count": 93,
   "metadata": {},
   "outputs": [],
   "source": [
    "from os import walk\n",
    "\n",
    "file_list = []\n",
    "for (dirpath, dirnames, filenames) in walk('./insta_img'):\n",
    "    file_list.extend(filenames)"
   ]
  },
  {
   "cell_type": "code",
   "execution_count": 95,
   "metadata": {},
   "outputs": [],
   "source": [
    "# file_list.sort()\n",
    "# file_list"
   ]
  },
  {
   "cell_type": "code",
   "execution_count": 130,
   "metadata": {},
   "outputs": [],
   "source": [
    "with io.open('./insta_img/{}'.format('insta_img_18.png'), 'rb') as image_file:\n",
    "    content = image_file.read()\n",
    "\n",
    "image = vision.types.Image(content=content)\n",
    "response = client.safe_search_detection(image=image)\n",
    "safe = response.safe_search_annotation"
   ]
  },
  {
   "cell_type": "code",
   "execution_count": 131,
   "metadata": {},
   "outputs": [
    {
     "data": {
      "text/plain": [
       "adult: UNLIKELY\n",
       "spoof: LIKELY\n",
       "medical: UNLIKELY\n",
       "violence: UNLIKELY\n",
       "racy: VERY_LIKELY"
      ]
     },
     "execution_count": 131,
     "metadata": {},
     "output_type": "execute_result"
    }
   ],
   "source": [
    "safe"
   ]
  },
  {
   "cell_type": "code",
   "execution_count": null,
   "metadata": {},
   "outputs": [],
   "source": []
  },
  {
   "cell_type": "code",
   "execution_count": null,
   "metadata": {},
   "outputs": [],
   "source": []
  },
  {
   "cell_type": "code",
   "execution_count": null,
   "metadata": {},
   "outputs": [],
   "source": []
  },
  {
   "cell_type": "code",
   "execution_count": null,
   "metadata": {},
   "outputs": [],
   "source": []
  },
  {
   "cell_type": "code",
   "execution_count": null,
   "metadata": {},
   "outputs": [],
   "source": []
  },
  {
   "cell_type": "code",
   "execution_count": null,
   "metadata": {},
   "outputs": [],
   "source": []
  },
  {
   "cell_type": "code",
   "execution_count": null,
   "metadata": {},
   "outputs": [],
   "source": []
  },
  {
   "cell_type": "code",
   "execution_count": null,
   "metadata": {},
   "outputs": [],
   "source": []
  },
  {
   "cell_type": "code",
   "execution_count": null,
   "metadata": {},
   "outputs": [],
   "source": []
  },
  {
   "cell_type": "code",
   "execution_count": null,
   "metadata": {},
   "outputs": [],
   "source": []
  },
  {
   "cell_type": "code",
   "execution_count": null,
   "metadata": {},
   "outputs": [],
   "source": []
  },
  {
   "cell_type": "code",
   "execution_count": null,
   "metadata": {},
   "outputs": [],
   "source": []
  },
  {
   "cell_type": "code",
   "execution_count": null,
   "metadata": {},
   "outputs": [],
   "source": []
  },
  {
   "cell_type": "code",
   "execution_count": null,
   "metadata": {},
   "outputs": [],
   "source": []
  },
  {
   "cell_type": "code",
   "execution_count": null,
   "metadata": {},
   "outputs": [],
   "source": []
  },
  {
   "cell_type": "code",
   "execution_count": null,
   "metadata": {},
   "outputs": [],
   "source": []
  },
  {
   "cell_type": "code",
   "execution_count": 19,
   "metadata": {},
   "outputs": [],
   "source": [
    "# from google.cloud import storage\n",
    "\n",
    "# # If you don't specify credentials when constructing the client, the\n",
    "# # client library will look for credentials in the environment.\n",
    "# storage_client = storage.Client()\n",
    "\n",
    "# # Make an authenticated API request\n",
    "# buckets = list(storage_client.list_buckets())\n",
    "# print(buckets)"
   ]
  },
  {
   "cell_type": "code",
   "execution_count": null,
   "metadata": {},
   "outputs": [],
   "source": []
  },
  {
   "cell_type": "code",
   "execution_count": null,
   "metadata": {},
   "outputs": [],
   "source": []
  },
  {
   "cell_type": "code",
   "execution_count": null,
   "metadata": {},
   "outputs": [],
   "source": []
  },
  {
   "cell_type": "code",
   "execution_count": null,
   "metadata": {},
   "outputs": [],
   "source": []
  },
  {
   "cell_type": "code",
   "execution_count": 45,
   "metadata": {},
   "outputs": [
    {
     "data": {
      "text/plain": [
       "array(['#흑당버블티, #엄마, #허니브레드, #먹방, #마스크구매, #봄, #일상, #좋반, #좋아요, #첫줄, #추워요, #커피, #빵, #카페, #맴찢, #수요일, #집앞, #요거프레소, #힐링'],\n",
       "      dtype=object)"
      ]
     },
     "execution_count": 45,
     "metadata": {},
     "output_type": "execute_result"
    }
   ],
   "source": [
    "df.values[0]"
   ]
  },
  {
   "cell_type": "code",
   "execution_count": 46,
   "metadata": {},
   "outputs": [
    {
     "data": {
      "text/plain": [
       "['#흑당버블티',\n",
       " ' #엄마',\n",
       " ' #허니브레드',\n",
       " ' #먹방',\n",
       " ' #마스크구매',\n",
       " ' #봄',\n",
       " ' #일상',\n",
       " ' #좋반',\n",
       " ' #좋아요',\n",
       " ' #첫줄',\n",
       " ' #추워요',\n",
       " ' #커피',\n",
       " ' #빵',\n",
       " ' #카페',\n",
       " ' #맴찢',\n",
       " ' #수요일',\n",
       " ' #집앞',\n",
       " ' #요거프레소',\n",
       " ' #힐링']"
      ]
     },
     "execution_count": 46,
     "metadata": {},
     "output_type": "execute_result"
    }
   ],
   "source": [
    "df.values[0][0].split(',')"
   ]
  },
  {
   "cell_type": "code",
   "execution_count": 47,
   "metadata": {},
   "outputs": [
    {
     "data": {
      "text/plain": [
       "'#용곡동, #성성동, #단체주문, #백석동, #마녀, #앙마, #성정동, #소금커피, #흑당버블티, #봉명동, #삼성, #햄치즈, #원성동, #차암동, #감사합니다, #두정동카페, #신부동, #불당동, #대만샌드위치천안본점, #신속정확한배달'"
      ]
     },
     "execution_count": 47,
     "metadata": {},
     "output_type": "execute_result"
    }
   ],
   "source": [
    "df.values[35][0]"
   ]
  },
  {
   "cell_type": "code",
   "execution_count": 48,
   "metadata": {},
   "outputs": [
    {
     "data": {
      "text/plain": [
       "['#소통,#foodstagram,#흑당버블티,#선팔하면맞팔,#맛스타그램,#foodie,#먹스타맞팔,#맞팔,#먹스타그램,#타이거슈가,#food,#서현역,#흑당밀크티']"
      ]
     },
     "execution_count": 48,
     "metadata": {},
     "output_type": "execute_result"
    }
   ],
   "source": [
    "df.values[36][0].split(', ')"
   ]
  },
  {
   "cell_type": "code",
   "execution_count": 90,
   "metadata": {},
   "outputs": [],
   "source": [
    "hash_tags = []\n",
    "for each_row in df.values:\n",
    "    hash_tags.extend(each_row[0].split(','))\n",
    "hash_tags = [each_tag.strip() for each_tag in hash_tags]"
   ]
  },
  {
   "cell_type": "code",
   "execution_count": 91,
   "metadata": {},
   "outputs": [
    {
     "data": {
      "text/plain": [
       "730"
      ]
     },
     "execution_count": 91,
     "metadata": {},
     "output_type": "execute_result"
    }
   ],
   "source": [
    "len(hash_tags)"
   ]
  },
  {
   "cell_type": "code",
   "execution_count": 92,
   "metadata": {},
   "outputs": [
    {
     "data": {
      "text/plain": [
       "507"
      ]
     },
     "execution_count": 92,
     "metadata": {},
     "output_type": "execute_result"
    }
   ],
   "source": [
    "hash_tags_set = set(hash_tags)\n",
    "len(hash_tags_set)"
   ]
  },
  {
   "cell_type": "code",
   "execution_count": 96,
   "metadata": {},
   "outputs": [],
   "source": [
    "hash_tags = list(filter(lambda ele: ele != '', hash_tags))"
   ]
  },
  {
   "cell_type": "code",
   "execution_count": 97,
   "metadata": {},
   "outputs": [
    {
     "data": {
      "text/plain": [
       "Counter({'#흑당버블티': 46,\n",
       "         '#엄마': 1,\n",
       "         '#허니브레드': 2,\n",
       "         '#먹방': 2,\n",
       "         '#마스크구매': 1,\n",
       "         '#봄': 3,\n",
       "         '#일상': 4,\n",
       "         '#좋반': 2,\n",
       "         '#좋아요': 5,\n",
       "         '#첫줄': 1,\n",
       "         '#추워요': 1,\n",
       "         '#커피': 6,\n",
       "         '#빵': 1,\n",
       "         '#카페': 9,\n",
       "         '#맴찢': 1,\n",
       "         '#수요일': 1,\n",
       "         '#집앞': 1,\n",
       "         '#요거프레소': 2,\n",
       "         '#힐링': 1,\n",
       "         '#커피는이디야': 1,\n",
       "         '#물금카페': 1,\n",
       "         '#200422': 1,\n",
       "         '#이디야카페': 1,\n",
       "         '#양산부산대병원': 1,\n",
       "         '#바닐라라떼': 1,\n",
       "         '#물금커피': 1,\n",
       "         '#봄딸기라떼': 1,\n",
       "         '#범어카페': 1,\n",
       "         '#이디야커피': 1,\n",
       "         '#양산카페': 1,\n",
       "         '#이디야양부대점': 1,\n",
       "         '#범어커피': 1,\n",
       "         '#양산부산대학병원': 1,\n",
       "         '#양산커피': 1,\n",
       "         '#이디야양산부산대병원점': 1,\n",
       "         '#모닝커피': 2,\n",
       "         '#이디야': 2,\n",
       "         '#양산이디야': 1,\n",
       "         '#이디야뽀로로': 1,\n",
       "         '#메이븐커피스토어': 2,\n",
       "         '#고대스터디카페': 2,\n",
       "         '#오렌지착즙': 2,\n",
       "         '#법후': 2,\n",
       "         '#고대카페': 2,\n",
       "         '#종암동': 2,\n",
       "         '#라떼아트': 2,\n",
       "         '#법후라떼': 2,\n",
       "         '#메이븐커피': 2,\n",
       "         '#메이븐커피로스터스': 2,\n",
       "         '#법후맛집': 2,\n",
       "         '#맛스타그램': 5,\n",
       "         '#종암동맛집': 2,\n",
       "         '#mavencoffeestore': 2,\n",
       "         '#아인슈페너맛집': 2,\n",
       "         '#달라코르테xt': 2,\n",
       "         '#메테오라': 2,\n",
       "         '#메이븐': 2,\n",
       "         '#메이븐커피종암점': 2,\n",
       "         '#숭례초등학교': 2,\n",
       "         '#안핌sp2': 2,\n",
       "         '#안암카페': 2,\n",
       "         '#고대': 2,\n",
       "         '#스타벅스종암점': 2,\n",
       "         '#법후카페': 2,\n",
       "         '#숭례초': 2,\n",
       "         '#딸기라떼': 2,\n",
       "         '#종암동카페': 2,\n",
       "         '#충무횟집': 1,\n",
       "         '#창원먹을만한곳': 1,\n",
       "         '#창원회': 1,\n",
       "         '#창원가볼만한곳': 1,\n",
       "         '#먹스타그램': 8,\n",
       "         '#창원데이트': 1,\n",
       "         '#창원밥집': 1,\n",
       "         '#창원맛집': 1,\n",
       "         '#이룸빌딩': 1,\n",
       "         '#대원동맛집': 1,\n",
       "         '#마산맛집': 1,\n",
       "         '#food': 3,\n",
       "         '#창원대원동': 1,\n",
       "         '#마창진맛집': 1,\n",
       "         '#창원핫플': 1,\n",
       "         '#대원동핫플': 1,\n",
       "         '#상남동맛집': 1,\n",
       "         '#대원동횟집': 1,\n",
       "         '#봄도다리': 1,\n",
       "         '#창원횟집': 1,\n",
       "         '#창원핫플레이스': 1,\n",
       "         '#창원맛집추천': 1,\n",
       "         '#해물': 1,\n",
       "         '#창원술집': 1,\n",
       "         '#창원대원동횟집': 1,\n",
       "         '#맛스타': 1,\n",
       "         '#자연산회': 1,\n",
       "         '#홍차': 1,\n",
       "         '#대만': 1,\n",
       "         '#자몽': 1,\n",
       "         '#대만음료수': 1,\n",
       "         '#파인애플그린티': 1,\n",
       "         '#완포티숍': 1,\n",
       "         '#흑당밀크티': 3,\n",
       "         '#스무디': 1,\n",
       "         '#인생샷명소': 1,\n",
       "         '#핵인싸템': 1,\n",
       "         '#인생샷카페': 1,\n",
       "         '#타이중': 1,\n",
       "         '#타이중음식': 1,\n",
       "         '#음료수': 1,\n",
       "         '#음식': 1,\n",
       "         '#17號鳳梨綠': 1,\n",
       "         '#완포': 1,\n",
       "         '#대만의맛': 1,\n",
       "         '#고급': 1,\n",
       "         '#전문점': 1,\n",
       "         '#타이중음료수': 1,\n",
       "         '#인싸템': 1,\n",
       "         '#애옥젤리': 1,\n",
       "         '#망고자몽미니버블스무디': 1,\n",
       "         '#흑당버블밀크': 1,\n",
       "         '#망고': 1,\n",
       "         '#대만음식': 1,\n",
       "         '#한국': 1,\n",
       "         '#미니버블': 1,\n",
       "         '#daily': 2,\n",
       "         '#흑당': 1,\n",
       "         '#팔로우': 3,\n",
       "         '#coffee': 4,\n",
       "         '#강남카페': 1,\n",
       "         '#selfie': 1,\n",
       "         '#흑당라떼': 2,\n",
       "         '#맞팔': 4,\n",
       "         '#달고나': 2,\n",
       "         '#카페투어': 1,\n",
       "         '#더치커피': 1,\n",
       "         '#스콘': 2,\n",
       "         '#라떼': 1,\n",
       "         '#마카롱': 2,\n",
       "         '#소통': 5,\n",
       "         '#홈카페': 1,\n",
       "         '#cafe': 3,\n",
       "         '#분당': 1,\n",
       "         '#homecafe': 1,\n",
       "         '#tea': 1,\n",
       "         '#원두': 1,\n",
       "         '#starbucks': 1,\n",
       "         '#selca': 1,\n",
       "         '#소통해요': 1,\n",
       "         '#밀크티': 3,\n",
       "         '#더벤티': 1,\n",
       "         '#치즈폼바닐라라떼': 1,\n",
       "         '#복터디저트': 1,\n",
       "         '#suga카페': 1,\n",
       "         '#허니팩토리': 1,\n",
       "         '#suga': 1,\n",
       "         '#용전동디저트': 1,\n",
       "         '#좋아요반사': 1,\n",
       "         '#팔로워': 1,\n",
       "         '#복합터미널디저트': 1,\n",
       "         '#맞팔환영': 1,\n",
       "         '#디톡스주스': 1,\n",
       "         '#슈가디저트': 1,\n",
       "         '#용전동카페': 1,\n",
       "         '#chocochipcookies': 1,\n",
       "         '#하바나커피': 1,\n",
       "         '#문정카페': 1,\n",
       "         '#다쿠아즈': 1,\n",
       "         '#블랙라떼': 1,\n",
       "         '#법조단지커피': 1,\n",
       "         '#디저트카페': 2,\n",
       "         '#문정동맛집': 1,\n",
       "         '#송파마카롱': 1,\n",
       "         '#가든파이브마카롱': 1,\n",
       "         '#브레베': 1,\n",
       "         '#단내진동': 1,\n",
       "         '#수제초코칩쿠키': 1,\n",
       "         '#비엔나': 1,\n",
       "         '#가든파이브맛집': 1,\n",
       "         '#초코칩쿠키': 1,\n",
       "         '#달고나라떼': 3,\n",
       "         '#에이치비지니스파크': 1,\n",
       "         '#송파카페': 1,\n",
       "         '#비엔나맛집': 1,\n",
       "         '#문정하바나커피': 1,\n",
       "         '#법조단지맛집': 1,\n",
       "         '#부산공항': 1,\n",
       "         '#디저트': 4,\n",
       "         '#부산카페': 2,\n",
       "         '#咖啡': 1,\n",
       "         '#공항': 1,\n",
       "         '#instadaily': 1,\n",
       "         '#공항근처맛집': 1,\n",
       "         '#아메리카노': 1,\n",
       "         '#베이커리카페': 1,\n",
       "         '#yogerpresso': 1,\n",
       "         '#咖啡馆': 1,\n",
       "         '#부산공항맛집': 1,\n",
       "         '#instalike': 1,\n",
       "         '#후식': 2,\n",
       "         '#커피프랜차이즈': 1,\n",
       "         '#good': 1,\n",
       "         '#콘어니언핫도그': 1,\n",
       "         '#타이거슈가': 6,\n",
       "         '#tigersugar': 2,\n",
       "         '#흑당버블밀크티': 1,\n",
       "         '#인친환영': 1,\n",
       "         '#좋반환영❣️': 1,\n",
       "         '#인스타일상': 1,\n",
       "         '#인스타데일리': 1,\n",
       "         '#선팔은곧맞팔': 1,\n",
       "         '#선팔하면맞팔가요': 1,\n",
       "         '#선팔하면맞팔🙆': 1,\n",
       "         '#소통합시다': 1,\n",
       "         '#소소한일상': 1,\n",
       "         '#선팔후맞팔': 1,\n",
       "         '#버블티': 6,\n",
       "         '#선팔하면맞팔바로가요': 1,\n",
       "         '#아아메': 4,\n",
       "         '#커피중독': 4,\n",
       "         '#봄코디': 4,\n",
       "         '#봄네일': 4,\n",
       "         '#가방추천': 4,\n",
       "         '#고집불통': 4,\n",
       "         '#가봉스냅': 4,\n",
       "         '#가로수길맛집': 4,\n",
       "         '#가족나들이': 4,\n",
       "         '#가죽공예': 4,\n",
       "         '#커피차': 1,\n",
       "         '#레몬에이드🍋': 1,\n",
       "         '#제주하늬바람쥬스🍹': 1,\n",
       "         '#중독성강한': 1,\n",
       "         '#간식차': 1,\n",
       "         '#수제핫도그': 1,\n",
       "         '#신선한야채가득': 1,\n",
       "         '#마약핫도그': 1,\n",
       "         '#생딸쥬스🍓': 1,\n",
       "         '#제주푸드트럭': 1,\n",
       "         '#핫도그맛집': 1,\n",
       "         '#카페차': 1,\n",
       "         '#수제한라봉쥬스': 1,\n",
       "         '#푸드트럭맛집': 1,\n",
       "         '#호끌락': 1,\n",
       "         '#청귤에이드': 1,\n",
       "         '#호끌락푸드트럭': 1,\n",
       "         '#제주도푸드트럭': 1,\n",
       "         '#푸드트럭': 1,\n",
       "         '#흑당버블티만들기': 1,\n",
       "         '#f4f': 1,\n",
       "         '#댓글': 1,\n",
       "         '#선팔하면맞팔': 3,\n",
       "         '#디저트맛집': 1,\n",
       "         '#coffeeking': 1,\n",
       "         '#울진': 1,\n",
       "         '#커피킹': 1,\n",
       "         '#라떼맛집': 1,\n",
       "         '#카페스타그램': 1,\n",
       "         '#부구': 1,\n",
       "         '#카페탐방': 1,\n",
       "         '#follow': 2,\n",
       "         '#맛집': 3,\n",
       "         '#fff': 1,\n",
       "         '#선팔': 1,\n",
       "         '#인스타그램': 1,\n",
       "         '#카페추천': 1,\n",
       "         '#빙수맛집': 2,\n",
       "         '#울진카페': 1,\n",
       "         '#커피맛집': 1,\n",
       "         '#울진커피킹': 1,\n",
       "         '#부구카페': 1,\n",
       "         '#광명마카롱맛집': 1,\n",
       "         '#솜사탕머랭쿠키': 1,\n",
       "         '#시흥동마카롱맛집추천': 1,\n",
       "         '#시흥동디저트': 1,\n",
       "         '#티라미수☕마카롱': 1,\n",
       "         '#쁘아롱': 1,\n",
       "         '#금천구맛집': 1,\n",
       "         '#서울마카롱': 1,\n",
       "         '#가산동마카롱': 1,\n",
       "         '#다쿠아즈맛집': 1,\n",
       "         '#시흥동마카롱': 1,\n",
       "         '#독산동마카롱': 1,\n",
       "         '#스모어쿠키': 1,\n",
       "         '#시흥사거리': 1,\n",
       "         '#미니케이크💕': 1,\n",
       "         '#금천구시흥동마카롱': 1,\n",
       "         '#금천구레터링케이크': 1,\n",
       "         '#대만샌드위치': 1,\n",
       "         '#방학간식': 1,\n",
       "         '#평내동맛집': 1,\n",
       "         '#화도맛집': 1,\n",
       "         '#남양주맛집': 1,\n",
       "         '#평내호평역맛집': 1,\n",
       "         '#마석맛집': 1,\n",
       "         '#단체간식': 1,\n",
       "         '#금곡동맛집': 1,\n",
       "         '#홍루이젠샌드위치': 1,\n",
       "         '#맛있다': 1,\n",
       "         '#선물': 1,\n",
       "         '#단체전문': 1,\n",
       "         '#호평동맛집': 1,\n",
       "         '#샌드위치': 1,\n",
       "         '#회의용간식': 1,\n",
       "         '#직원간식': 1,\n",
       "         '#묵현리맛집': 1,\n",
       "         '#원조': 1,\n",
       "         '#우리아이간식': 1,\n",
       "         '#센스있는': 1,\n",
       "         '#직장인간식': 1,\n",
       "         '#남녀노소': 1,\n",
       "         '#간식': 1,\n",
       "         '#로앤룩': 3,\n",
       "         '#다람쥐슈트': 3,\n",
       "         '#repost': 3,\n",
       "         '#로앤룩어린이날이벤트': 3,\n",
       "         '#치킨': 3,\n",
       "         '#톡톡상하복': 3,\n",
       "         '#로스팅카페': 1,\n",
       "         '#타피오카펄': 1,\n",
       "         '#전대리맛집': 1,\n",
       "         '#펄': 1,\n",
       "         '#tapioca': 1,\n",
       "         '#흑당버블티카페라떼': 1,\n",
       "         '#tapiocapearls': 1,\n",
       "         '#카페포유': 1,\n",
       "         '#roastingcoffeeshop': 1,\n",
       "         '#cafeforyou': 1,\n",
       "         '#로스팅커피': 1,\n",
       "         '#통영중앙시장': 1,\n",
       "         '#통영서호시장': 1,\n",
       "         '#죽림카페': 1,\n",
       "         '#통영인싸': 1,\n",
       "         '#카페디프런트': 1,\n",
       "         '#수제자몽차': 1,\n",
       "         '#통영맛집': 1,\n",
       "         '#북신동': 1,\n",
       "         '#통영추천카페': 1,\n",
       "         '#통영핫플': 1,\n",
       "         '#뱅쇼': 1,\n",
       "         '#통영무전동카페': 1,\n",
       "         '#통영디저트카페': 1,\n",
       "         '#통영여행': 1,\n",
       "         '#통영북신동카페': 1,\n",
       "         '#자몽차맛집': 1,\n",
       "         '#통영맛집추천': 1,\n",
       "         '#통영카페추천': 1,\n",
       "         '#통영무전동맛집': 1,\n",
       "         '#내마음대로': 1,\n",
       "         '#집콕중': 1,\n",
       "         '#미국생활': 1,\n",
       "         '#이건남편거': 1,\n",
       "         '#covid19': 1,\n",
       "         '#赫弟弟': 1,\n",
       "         '#黑糖珍珠鮮奶': 1,\n",
       "         '#在家做奶茶': 1,\n",
       "         '#혁이': 1,\n",
       "         '#03': 1,\n",
       "         '#훙도': 3,\n",
       "         '#장산역': 1,\n",
       "         '#보바': 1,\n",
       "         '#쩐주': 1,\n",
       "         '#집가자': 1,\n",
       "         '#그린티라떼': 1,\n",
       "         '#출근길': 1,\n",
       "         '#부산': 1,\n",
       "         '#출근': 1,\n",
       "         '#홍차라떼': 1,\n",
       "         '#퇴근길': 1,\n",
       "         '#장산맛집': 1,\n",
       "         '#딸기': 1,\n",
       "         '#장산카페': 1,\n",
       "         '#쿠키베리머치': 1,\n",
       "         '#타이거슈가장산점': 1,\n",
       "         '#흑당카페라떼': 1,\n",
       "         '#장산': 1,\n",
       "         '#퇴근': 1,\n",
       "         '#장산역카페': 1,\n",
       "         '#시댁나들이': 2,\n",
       "         '#가족스냅': 2,\n",
       "         '#가죽공방': 2,\n",
       "         '#커피수혈': 2,\n",
       "         '#봄여행': 2,\n",
       "         '#커피한잔': 2,\n",
       "         '#봄네일아트': 2,\n",
       "         '#가오픈': 2,\n",
       "         '#가로수길카페': 2,\n",
       "         '#가드닝': 2,\n",
       "         '#용곡동': 1,\n",
       "         '#성성동': 1,\n",
       "         '#단체주문': 1,\n",
       "         '#백석동': 1,\n",
       "         '#마녀': 1,\n",
       "         '#앙마': 1,\n",
       "         '#성정동': 1,\n",
       "         '#소금커피': 1,\n",
       "         '#봉명동': 1,\n",
       "         '#삼성': 1,\n",
       "         '#햄치즈': 1,\n",
       "         '#원성동': 1,\n",
       "         '#차암동': 1,\n",
       "         '#감사합니다': 1,\n",
       "         '#두정동카페': 1,\n",
       "         '#신부동': 1,\n",
       "         '#불당동': 1,\n",
       "         '#대만샌드위치천안본점': 1,\n",
       "         '#신속정확한배달': 1,\n",
       "         '#foodstagram': 1,\n",
       "         '#foodie': 2,\n",
       "         '#먹스타맞팔': 1,\n",
       "         '#서현역': 1,\n",
       "         '#거울샷그램': 1,\n",
       "         '#고등학생': 1,\n",
       "         '#맥도날드': 1,\n",
       "         '#코노': 1,\n",
       "         '#햄버거세트': 1,\n",
       "         '#고3': 1,\n",
       "         '#우정폰케이스': 1,\n",
       "         '#폰케이스': 1,\n",
       "         '#02': 1,\n",
       "         '#미남커피': 1,\n",
       "         '#흑당그린버블티': 1,\n",
       "         '#락휴코인노래방': 1,\n",
       "         '#1955버거세트': 1,\n",
       "         '#코인노래방': 1,\n",
       "         '#친구랑': 1,\n",
       "         '#셀카': 1,\n",
       "         '#셀카그램': 1,\n",
       "         '#19살': 1,\n",
       "         '#거울샷': 1,\n",
       "         '#공룡폰케이스': 1,\n",
       "         '#과자리뷰': 1,\n",
       "         '#소확행_작지만_확실한_행복🌿🌿': 1,\n",
       "         '#간단하게냠냠': 1,\n",
       "         '#흑당맛동산': 1,\n",
       "         '#오늘도맛있는하루': 1,\n",
       "         '#먹스타': 1,\n",
       "         '#과자스타그램': 1,\n",
       "         '#달달구리': 1,\n",
       "         '#타피오카펄삶기': 1,\n",
       "         '#군것질스타그램': 1,\n",
       "         '#맛동산': 1,\n",
       "         '#흑당러버': 1,\n",
       "         '#먹는거좋아하는사람모여라': 1,\n",
       "         '#솔직리뷰': 1,\n",
       "         '#군것질': 1,\n",
       "         '#대만버블티': 1,\n",
       "         '#버블티추천': 1,\n",
       "         '#대만타이거슈가': 1,\n",
       "         '#대만여행': 1,\n",
       "         '#대만버블티맛집': 1,\n",
       "         '#한달기다린': 1,\n",
       "         '#화요일밤': 1,\n",
       "         '#방구석여행챌린지': 1,\n",
       "         '#진정성': 1,\n",
       "         '#크로플': 1,\n",
       "         '#와플팬': 1,\n",
       "         '#허니고르곤피자': 1,\n",
       "         '#20200418': 1,\n",
       "         '#gs추천': 1,\n",
       "         '#편의점추천': 1,\n",
       "         '#타이거슈가흑당버블티': 1,\n",
       "         '#gs25': 1,\n",
       "         '#soulfood': 1,\n",
       "         '#한식의명가': 1,\n",
       "         '#foodporn': 1,\n",
       "         '#koreansausagestew': 1,\n",
       "         '#순대국': 1,\n",
       "         '#맛나': 1,\n",
       "         '#섞어국밥': 1,\n",
       "         '#삼성동': 1,\n",
       "         '#dessert': 1,\n",
       "         '#혼밥': 1,\n",
       "         '#순대국밥': 1,\n",
       "         '#소울푸드': 1,\n",
       "         '#ediya': 1,\n",
       "         '#brownsugarmilktea': 1,\n",
       "         '#병천순대': 1,\n",
       "         '#양도많다😋': 1,\n",
       "         '#달다̆̈': 1,\n",
       "         '#그러저럭만족': 1,\n",
       "         '#배불러ㅋㅋㅋ': 1,\n",
       "         '#차이': 1,\n",
       "         '#맛은': 1,\n",
       "         '#쓰리스완카페': 1,\n",
       "         '#멍때림': 1,\n",
       "         '#휴식': 1,\n",
       "         '#들어간': 1,\n",
       "         '#2020': 1,\n",
       "         '#지나치다가': 1,\n",
       "         '#계획': 1,\n",
       "         '#걷다가': 1,\n",
       "         '#기록': 1,\n",
       "         '#옥길동': 1,\n",
       "         '#잠시': 1,\n",
       "         '#버블티맞집': 1,\n",
       "         '#영등포버블티맞집': 1,\n",
       "         '#마리커피': 1,\n",
       "         '#영등포역마카롱': 1,\n",
       "         '#마카롱맞집': 1,\n",
       "         '#영등포역마카롱맞집': 1,\n",
       "         '#영등포역버블티맞집': 1,\n",
       "         '#영등포마카롱맞집': 1,\n",
       "         '#마리마카롱': 1,\n",
       "         '#서면흑화당': 1,\n",
       "         '#jmter': 1,\n",
       "         '#누가크래커': 1,\n",
       "         '#흑화당': 1,\n",
       "         '#존맛': 1})"
      ]
     },
     "execution_count": 97,
     "metadata": {},
     "output_type": "execute_result"
    }
   ],
   "source": [
    "import collections\n",
    "\n",
    "hash_tag_dict = collections.Counter(hash_tags)\n",
    "hash_tag_dict"
   ]
  },
  {
   "cell_type": "code",
   "execution_count": 98,
   "metadata": {},
   "outputs": [],
   "source": [
    "hash_tags_top10 = hash_tag_dict.most_common()[:10]"
   ]
  },
  {
   "cell_type": "code",
   "execution_count": 130,
   "metadata": {},
   "outputs": [
    {
     "data": {
      "text/html": [
       "<div>\n",
       "<style scoped>\n",
       "    .dataframe tbody tr th:only-of-type {\n",
       "        vertical-align: middle;\n",
       "    }\n",
       "\n",
       "    .dataframe tbody tr th {\n",
       "        vertical-align: top;\n",
       "    }\n",
       "\n",
       "    .dataframe thead th {\n",
       "        text-align: right;\n",
       "    }\n",
       "</style>\n",
       "<table border=\"1\" class=\"dataframe\">\n",
       "  <thead>\n",
       "    <tr style=\"text-align: right;\">\n",
       "      <th></th>\n",
       "      <th>hash_tag</th>\n",
       "      <th>count</th>\n",
       "    </tr>\n",
       "  </thead>\n",
       "  <tbody>\n",
       "    <tr>\n",
       "      <th>0</th>\n",
       "      <td>#흑당버블티</td>\n",
       "      <td>46</td>\n",
       "    </tr>\n",
       "    <tr>\n",
       "      <th>1</th>\n",
       "      <td>#카페</td>\n",
       "      <td>9</td>\n",
       "    </tr>\n",
       "    <tr>\n",
       "      <th>2</th>\n",
       "      <td>#먹스타그램</td>\n",
       "      <td>8</td>\n",
       "    </tr>\n",
       "    <tr>\n",
       "      <th>3</th>\n",
       "      <td>#커피</td>\n",
       "      <td>6</td>\n",
       "    </tr>\n",
       "    <tr>\n",
       "      <th>4</th>\n",
       "      <td>#타이거슈가</td>\n",
       "      <td>6</td>\n",
       "    </tr>\n",
       "    <tr>\n",
       "      <th>5</th>\n",
       "      <td>#버블티</td>\n",
       "      <td>6</td>\n",
       "    </tr>\n",
       "    <tr>\n",
       "      <th>6</th>\n",
       "      <td>#좋아요</td>\n",
       "      <td>5</td>\n",
       "    </tr>\n",
       "    <tr>\n",
       "      <th>7</th>\n",
       "      <td>#맛스타그램</td>\n",
       "      <td>5</td>\n",
       "    </tr>\n",
       "    <tr>\n",
       "      <th>8</th>\n",
       "      <td>#소통</td>\n",
       "      <td>5</td>\n",
       "    </tr>\n",
       "    <tr>\n",
       "      <th>9</th>\n",
       "      <td>#일상</td>\n",
       "      <td>4</td>\n",
       "    </tr>\n",
       "  </tbody>\n",
       "</table>\n",
       "</div>"
      ],
      "text/plain": [
       "  hash_tag  count\n",
       "0   #흑당버블티     46\n",
       "1      #카페      9\n",
       "2   #먹스타그램      8\n",
       "3      #커피      6\n",
       "4   #타이거슈가      6\n",
       "5     #버블티      6\n",
       "6     #좋아요      5\n",
       "7   #맛스타그램      5\n",
       "8      #소통      5\n",
       "9      #일상      4"
      ]
     },
     "execution_count": 130,
     "metadata": {},
     "output_type": "execute_result"
    }
   ],
   "source": [
    "import pandas as pd\n",
    "import matplotlib.pyplot as plt\n",
    "import seaborn as sns\n",
    "from matplotlib import font_manager, rc\n",
    "f_path = \"/Library/Fonts/AppleGothic.ttf\"\n",
    "rc('font', family='AppleGothic')\n",
    "\n",
    "hash_tags_df = pd.DataFrame(hash_tags_top10, columns=['hash_tag', 'count'])\n",
    "hash_tags_df"
   ]
  },
  {
   "cell_type": "code",
   "execution_count": 134,
   "metadata": {},
   "outputs": [
    {
     "data": {
      "image/png": "[encoded data removed]",
      "text/plain": [
       "<Figure size 720x576 with 1 Axes>"
      ]
     },
     "metadata": {
      "image/png": {
       "height": 479,
       "width": 606
      },
      "needs_background": "light"
     },
     "output_type": "display_data"
    }
   ],
   "source": [
    "plt.figure(figsize=(10, 8))\n",
    "\n",
    "sns.barplot(x='hash_tag', y='count', data=hash_tags_df)"
   ]
  },
  {
   "cell_type": "code",
   "execution_count": null,
   "metadata": {},
   "outputs": [],
   "source": []
  },
  {
   "cell_type": "code",
   "execution_count": null,
   "metadata": {},
   "outputs": [],
   "source": []
  },
  {
   "cell_type": "code",
   "execution_count": null,
   "metadata": {},
   "outputs": [],
   "source": []
  },
  {
   "cell_type": "code",
   "execution_count": null,
   "metadata": {},
   "outputs": [],
   "source": []
  },
  {
   "cell_type": "code",
   "execution_count": 119,
   "metadata": {},
   "outputs": [],
   "source": [
    "# [each_item[0] for each_item in hash_tags_top10]"
   ]
  },
  {
   "cell_type": "code",
   "execution_count": null,
   "metadata": {},
   "outputs": [],
   "source": []
  },
  {
   "cell_type": "code",
   "execution_count": null,
   "metadata": {},
   "outputs": [],
   "source": []
  },
  {
   "cell_type": "code",
   "execution_count": null,
   "metadata": {},
   "outputs": [],
   "source": []
  },
  {
   "cell_type": "code",
   "execution_count": null,
   "metadata": {},
   "outputs": [],
   "source": []
  },
  {
   "cell_type": "code",
   "execution_count": null,
   "metadata": {},
   "outputs": [],
   "source": []
  },
  {
   "cell_type": "code",
   "execution_count": null,
   "metadata": {},
   "outputs": [],
   "source": []
  },
  {
   "cell_type": "code",
   "execution_count": null,
   "metadata": {},
   "outputs": [],
   "source": []
  },
  {
   "cell_type": "code",
   "execution_count": null,
   "metadata": {},
   "outputs": [],
   "source": []
  },
  {
   "cell_type": "code",
   "execution_count": null,
   "metadata": {},
   "outputs": [],
   "source": []
  },
  {
   "cell_type": "code",
   "execution_count": null,
   "metadata": {},
   "outputs": [],
   "source": []
  },
  {
   "cell_type": "code",
   "execution_count": null,
   "metadata": {},
   "outputs": [],
   "source": []
  },
  {
   "cell_type": "code",
   "execution_count": null,
   "metadata": {},
   "outputs": [],
   "source": []
  },
  {
   "cell_type": "code",
   "execution_count": null,
   "metadata": {},
   "outputs": [],
   "source": []
  },
  {
   "cell_type": "code",
   "execution_count": null,
   "metadata": {},
   "outputs": [],
   "source": []
  },
  {
   "cell_type": "code",
   "execution_count": null,
   "metadata": {},
   "outputs": [],
   "source": []
  },
  {
   "cell_type": "code",
   "execution_count": null,
   "metadata": {},
   "outputs": [],
   "source": []
  },
  {
   "cell_type": "code",
   "execution_count": null,
   "metadata": {},
   "outputs": [],
   "source": []
  },
  {
   "cell_type": "code",
   "execution_count": null,
   "metadata": {},
   "outputs": [],
   "source": []
  },
  {
   "cell_type": "code",
   "execution_count": null,
   "metadata": {},
   "outputs": [],
   "source": []
  }
 ],
 "metadata": {
  "kernelspec": {
   "display_name": "Python 3",
   "language": "python",
   "name": "python3"
  },
  "language_info": {
   "codemirror_mode": {
    "name": "ipython",
    "version": 3
   },
   "file_extension": ".py",
   "mimetype": "text/x-python",
   "name": "python",
   "nbconvert_exporter": "python",
   "pygments_lexer": "ipython3",
   "version": "3.7.6"
  }
 },
 "nbformat": 4,
 "nbformat_minor": 4
}
