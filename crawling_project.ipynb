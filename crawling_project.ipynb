{
 "cells": [
  {
   "cell_type": "markdown",
   "metadata": {},
   "source": [
    "### 데이터 크롤링 프로젝트\n",
    "- 데이터 수집의 개요\n",
    "    - 수집 동기\n",
    "- 데이터 수집의 계획 및 주기 작성\n",
    "    - 데이터를 수집하는 시스템의 구조도 및 프로세스등을 설명\n",
    "- 크롤링하는 방법\n",
    "    - 크롤링 코드는 서버에서 실행될수 있도록 작성\n",
    "    - 모듈이나 패키지 형태로 만들거나 스크래피 프레임워크를 사용\n",
    "- 데이터의 저장\n",
    "    - mongodb 데이터 베이스에 크롤링 한 데이터를 저장\n",
    "- 코드의 관리\n",
    "    - github 서비스를 이용해서 코드 관리, 공유, 이슈처리\n",
    "    - 설치되어야 하는 패키지는 requirements.txt로 작성\n",
    "    - 코드의 설명은 처음 접한 사람도 그대로 따라하면 코드를 실행 할수 있을 정도로 간결하게 작성\n",
    "- 프로젝트 회고\n",
    "    - 프로젝트하면서 느낀점\n",
    "    - 추후 연구 및 개선사항"
   ]
  }
 ],
 "metadata": {
  "kernelspec": {
   "display_name": "Python 3",
   "language": "python",
   "name": "python3"
  },
  "language_info": {
   "codemirror_mode": {
    "name": "ipython",
    "version": 3
   },
   "file_extension": ".py",
   "mimetype": "text/x-python",
   "name": "python",
   "nbconvert_exporter": "python",
   "pygments_lexer": "ipython3",
   "version": "3.7.6"
  }
 },
 "nbformat": 4,
 "nbformat_minor": 4
}
