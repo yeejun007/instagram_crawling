{
 "cells": [
  {
   "cell_type": "code",
   "execution_count": 1,
   "metadata": {},
   "outputs": [],
   "source": [
    "from insta_crawling import crawling_start"
   ]
  },
  {
   "cell_type": "code",
   "execution_count": 3,
   "metadata": {},
   "outputs": [
    {
     "name": "stdout",
     "output_type": "stream",
     "text": [
      "id를 입력하세요: yeejun90\n",
      "password를 입력하세요: ········\n"
     ]
    },
    {
     "data": {
      "text/html": [
       "<div>\n",
       "<style scoped>\n",
       "    .dataframe tbody tr th:only-of-type {\n",
       "        vertical-align: middle;\n",
       "    }\n",
       "\n",
       "    .dataframe tbody tr th {\n",
       "        vertical-align: top;\n",
       "    }\n",
       "\n",
       "    .dataframe thead th {\n",
       "        text-align: right;\n",
       "    }\n",
       "</style>\n",
       "<table border=\"1\" class=\"dataframe\">\n",
       "  <thead>\n",
       "    <tr style=\"text-align: right;\">\n",
       "      <th></th>\n",
       "      <th>hash_tag</th>\n",
       "    </tr>\n",
       "  </thead>\n",
       "  <tbody>\n",
       "    <tr>\n",
       "      <th>49</th>\n",
       "      <td>#모찡가나슈🎀, #마카롱라인업입니당💁‍♀️, #헤이즐넛크런치, #키위요거트, #쑥인...</td>\n",
       "    </tr>\n",
       "    <tr>\n",
       "      <th>50</th>\n",
       "      <td>#가대, #가대중앙기독교동아리, #맘스터치, #뿌링클, #가톨릭대중앙기독교동아리, ...</td>\n",
       "    </tr>\n",
       "    <tr>\n",
       "      <th>51</th>\n",
       "      <td>#망원동까눌레, #밤우유, #공주알밤우유, #망원동, #보틀밀크티, #단호박우유, ...</td>\n",
       "    </tr>\n",
       "    <tr>\n",
       "      <th>52</th>\n",
       "      <td>#홍천축협하나로마트, #초코우유, #하나로카페</td>\n",
       "    </tr>\n",
       "    <tr>\n",
       "      <th>53</th>\n",
       "      <td>#허쉬, #초코우유, #도망가지말자, #daily, #팔로우, #먹스타그램, #인친...</td>\n",
       "    </tr>\n",
       "  </tbody>\n",
       "</table>\n",
       "</div>"
      ],
      "text/plain": [
       "                                             hash_tag\n",
       "49  #모찡가나슈🎀, #마카롱라인업입니당💁‍♀️, #헤이즐넛크런치, #키위요거트, #쑥인...\n",
       "50  #가대, #가대중앙기독교동아리, #맘스터치, #뿌링클, #가톨릭대중앙기독교동아리, ...\n",
       "51  #망원동까눌레, #밤우유, #공주알밤우유, #망원동, #보틀밀크티, #단호박우유, ...\n",
       "52                          #홍천축협하나로마트, #초코우유, #하나로카페\n",
       "53  #허쉬, #초코우유, #도망가지말자, #daily, #팔로우, #먹스타그램, #인친..."
      ]
     },
     "execution_count": 3,
     "metadata": {},
     "output_type": "execute_result"
    }
   ],
   "source": [
    "df = crawling_start('초코우유', 2, mongo_save=0)\n",
    "df.tail(5)"
   ]
  },
  {
   "cell_type": "code",
   "execution_count": null,
   "metadata": {},
   "outputs": [],
   "source": []
  },
  {
   "cell_type": "code",
   "execution_count": null,
   "metadata": {},
   "outputs": [],
   "source": []
  }
 ],
 "metadata": {
  "kernelspec": {
   "display_name": "Python 3",
   "language": "python",
   "name": "python3"
  },
  "language_info": {
   "codemirror_mode": {
    "name": "ipython",
    "version": 3
   },
   "file_extension": ".py",
   "mimetype": "text/x-python",
   "name": "python",
   "nbconvert_exporter": "python",
   "pygments_lexer": "ipython3",
   "version": "3.7.6"
  }
 },
 "nbformat": 4,
 "nbformat_minor": 4
}
